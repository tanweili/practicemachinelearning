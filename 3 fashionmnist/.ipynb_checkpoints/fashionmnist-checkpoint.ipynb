{
 "cells": [
  {
   "cell_type": "code",
   "execution_count": 1,
   "id": "4284dc53",
   "metadata": {},
   "outputs": [],
   "source": [
    "from tensorflow import keras\n",
    "from tensorflow.keras import datasets, layers, models\n",
    "import matplotlib.pyplot as plt\n",
    "import numpy as np"
   ]
  },
  {
   "cell_type": "code",
   "execution_count": 2,
   "id": "af6e9c64",
   "metadata": {},
   "outputs": [],
   "source": [
    "(training_features, training_labels) , (testing_features, testing_labels) = datasets.fashion_mnist.load_data()"
   ]
  },
  {
   "cell_type": "code",
   "execution_count": 3,
   "id": "f86572bd",
   "metadata": {},
   "outputs": [],
   "source": [
    "LABEL_NAMES = ['T-shirt','Trouser','Pullover','Dress','Coat','Sandal','Shirt','Sneaker','Bag','Ankle Boot']"
   ]
  },
  {
   "cell_type": "code",
   "execution_count": 4,
   "id": "799161a2",
   "metadata": {},
   "outputs": [],
   "source": [
    "training_features_scaled, testing_features_scaled = training_features / 255.0, testing_features / 255.0\n",
    "#Original training features and testing features are integer arrays, scaling and converting to float"
   ]
  },
  {
   "cell_type": "code",
   "execution_count": 5,
   "id": "5f6b9a30",
   "metadata": {},
   "outputs": [
    {
     "name": "stdout",
     "output_type": "stream",
     "text": [
      "(60000, 28, 28)\n",
      "(10000, 28, 28)\n"
     ]
    }
   ],
   "source": [
    "print(training_features_scaled.shape)\n",
    "training_features_reshaped = training_features_scaled.reshape((60000,28,28,1))\n",
    "print(testing_features_scaled.shape)\n",
    "testing_features_reshaped = testing_features_scaled.reshape((10000,28,28,1))"
   ]
  },
  {
   "cell_type": "markdown",
   "id": "48f32543",
   "metadata": {},
   "source": [
    "##### Need above reshaping operation for non colour images (no colour channel depth dimension) compared to cifar10 coloured images because the input_shape of the first layer of the model expects a certain input\n"
   ]
  },
  {
   "cell_type": "code",
   "execution_count": 68,
   "id": "874535ca",
   "metadata": {},
   "outputs": [],
   "source": [
    "model = models.Sequential()\n",
    "\n",
    "#Conv layer\n",
    "model.add(layers.Conv2D(filters=128, kernel_size=(4, 4), activation='relu', input_shape=(28,28,1)))\n",
    "#model.add(layers.MaxPooling2D((2, 2)))\n",
    "#model.add(layers.Conv2D(64, (2, 2), activation='relu'))\n",
    "#model.add(layers.MaxPooling2D((2, 2)))\n",
    "#model.add(layers.Conv2D(128, (2, 2), activation='relu'))\n",
    "\n",
    "#filter value can be said to represent the number of patterns we want the layer to look out for\n",
    "#kernel_size is the \"height and width of conv window\" meaning the area over which we are looking out for the filter patterns\n",
    "#input_shape is inferred from 2nd layer onwards\n",
    "#Max pooling takes the greatest value in a area of pixels, reducing computation\n",
    "#Max pooling stride is the input_shape by default\n",
    "\n",
    "#Dense layer\n",
    "model.add(layers.Flatten()) #need to make the layer linear to connect to Dense layers\n",
    "model.add(layers.Dense(16, activation='relu'))\n",
    "model.add(layers.Dense(10))\n",
    "\n",
    "#model.summary()"
   ]
  },
  {
   "cell_type": "code",
   "execution_count": 69,
   "id": "cb48cc8d",
   "metadata": {},
   "outputs": [],
   "source": [
    "model.compile(optimizer=keras.optimizers.Adam(),loss=keras.losses.SparseCategoricalCrossentropy(from_logits=True)\n",
    "             , metrics=[keras.metrics.SparseCategoricalAccuracy()])\n",
    "#need to use SparseCategoricalAccuracyinstead of other types of accuracies.."
   ]
  },
  {
   "cell_type": "code",
   "execution_count": 70,
   "id": "6fcd55d1",
   "metadata": {},
   "outputs": [
    {
     "name": "stdout",
     "output_type": "stream",
     "text": [
      "1688/1688 [==============================] - 36s 21ms/step - loss: 0.4863 - sparse_categorical_accuracy: 0.8294 - val_loss: 0.3442 - val_sparse_categorical_accuracy: 0.8783\n"
     ]
    }
   ],
   "source": [
    "test = model.fit(training_features_reshaped,training_labels,epochs=1,validation_split=0.1)"
   ]
  },
  {
   "cell_type": "code",
   "execution_count": 45,
   "id": "e14d5701",
   "metadata": {
    "collapsed": true
   },
   "outputs": [
    {
     "name": "stdout",
     "output_type": "stream",
     "text": [
      "The actual picture is a Coat\n",
      "The predicted picture is a Coat\n"
     ]
    },
    {
     "data": {
      "image/png": "[encoded data removed]",
      "text/plain": [
       "<Figure size 432x288 with 1 Axes>"
      ]
     },
     "metadata": {
      "needs_background": "light"
     },
     "output_type": "display_data"
    }
   ],
   "source": [
    "predictions = model.predict(testing_features_reshaped)"
   ]
  },
  {
   "cell_type": "code",
   "execution_count": 52,
   "id": "a293ac20",
   "metadata": {
    "collapsed": true
   },
   "outputs": [
    {
     "name": "stdout",
     "output_type": "stream",
     "text": [
      "The actual picture is a Dress\n",
      "The predicted picture is a Dress\n"
     ]
    },
    {
     "data": {
      "image/png": "[encoded data removed]",
      "text/plain": [
       "<Figure size 432x288 with 1 Axes>"
      ]
     },
     "metadata": {
      "needs_background": "light"
     },
     "output_type": "display_data"
    }
   ],
   "source": [
    "def prediction(index):\n",
    "    plt.imshow( testing_features[index] )\n",
    "    print(\"The actual picture is a \" +LABEL_NAMES[ int( testing_labels[index] ) ] )\n",
    "    print(\"The predicted picture is a \" +LABEL_NAMES[predictions[index].argmax()])\n",
    "    \n",
    "prediction(300)"
   ]
  },
  {
   "cell_type": "code",
   "execution_count": 44,
   "id": "9c66ed88",
   "metadata": {},
   "outputs": [
    {
     "name": "stdout",
     "output_type": "stream",
     "text": [
      "313/313 [==============================] - 2s 5ms/step - loss: 0.3343 - sparse_categorical_accuracy: 0.8792\n"
     ]
    },
    {
     "data": {
      "text/plain": [
       "[0.33426371216773987, 0.8791999816894531]"
      ]
     },
     "execution_count": 44,
     "metadata": {},
     "output_type": "execute_result"
    }
   ],
   "source": [
    "model.evaluate(testing_features_reshaped,testing_labels)"
   ]
  }
 ],
 "metadata": {
  "kernelspec": {
   "display_name": "Python 3",
   "language": "python",
   "name": "python3"
  },
  "language_info": {
   "codemirror_mode": {
    "name": "ipython",
    "version": 3
   },
   "file_extension": ".py",
   "mimetype": "text/x-python",
   "name": "python",
   "nbconvert_exporter": "python",
   "pygments_lexer": "ipython3",
   "version": "3.8.8"
  }
 },
 "nbformat": 4,
 "nbformat_minor": 5
}
