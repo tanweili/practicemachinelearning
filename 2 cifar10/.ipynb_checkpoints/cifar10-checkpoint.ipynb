{
 "cells": [
  {
   "cell_type": "markdown",
   "id": "ba1b52f0",
   "metadata": {},
   "source": [
    "##### Tutorial from https://www.youtube.com/watch?v=tPYj3fFJGjk"
   ]
  },
  {
   "cell_type": "code",
   "execution_count": 1,
   "id": "d08a271e",
   "metadata": {},
   "outputs": [],
   "source": [
    "from tensorflow import keras\n",
    "from tensorflow.keras import datasets, layers, models\n",
    "import matplotlib.pyplot as plt\n",
    "import numpy as np"
   ]
  },
  {
   "cell_type": "code",
   "execution_count": 43,
   "id": "a467ef31",
   "metadata": {},
   "outputs": [],
   "source": [
    "(training_features, training_labels), (testing_features, testing_labels) = keras.datasets.cifar10.load_data()"
   ]
  },
  {
   "cell_type": "code",
   "execution_count": 12,
   "id": "f7c354f6",
   "metadata": {},
   "outputs": [],
   "source": [
    "LABEL_NAMES = ['airplane', 'automobile', 'bird', 'cat', 'deer','dog', 'frog', 'horse', 'ship', 'truck']"
   ]
  },
  {
   "cell_type": "code",
   "execution_count": 18,
   "id": "827e8774",
   "metadata": {
    "collapsed": true
   },
   "outputs": [
    {
     "name": "stdout",
     "output_type": "stream",
     "text": [
      "The picture is a bird\n"
     ]
    },
    {
     "data": {
      "image/png": "[encoded data removed]",
      "text/plain": [
       "<Figure size 432x288 with 1 Axes>"
      ]
     },
     "metadata": {
      "needs_background": "light"
     },
     "output_type": "display_data"
    }
   ],
   "source": [
    "def show_image(index):\n",
    "    plt.imshow( training_features[index] )\n",
    "    print(\"The picture is a \" +LABEL_NAMES[ int( training_labels[index] ) ] )\n",
    "    return\n",
    "show_image(6)"
   ]
  },
  {
   "cell_type": "code",
   "execution_count": 44,
   "id": "54a0e0b3",
   "metadata": {},
   "outputs": [],
   "source": [
    "training_features_scaled, testing_features_scaled = training_features / 255.0, testing_features / 255.0\n",
    "#scaling the images to between 0 and 1"
   ]
  },
  {
   "cell_type": "code",
   "execution_count": 45,
   "id": "34f1a514",
   "metadata": {},
   "outputs": [
    {
     "name": "stdout",
     "output_type": "stream",
     "text": [
      "Model: \"sequential_4\"\n",
      "_________________________________________________________________\n",
      "Layer (type)                 Output Shape              Param #   \n",
      "=================================================================\n",
      "conv2d_12 (Conv2D)           (None, 30, 30, 32)        896       \n",
      "_________________________________________________________________\n",
      "max_pooling2d_8 (MaxPooling2 (None, 15, 15, 32)        0         \n",
      "_________________________________________________________________\n",
      "conv2d_13 (Conv2D)           (None, 13, 13, 64)        18496     \n",
      "_________________________________________________________________\n",
      "max_pooling2d_9 (MaxPooling2 (None, 6, 6, 64)          0         \n",
      "_________________________________________________________________\n",
      "conv2d_14 (Conv2D)           (None, 4, 4, 64)          36928     \n",
      "_________________________________________________________________\n",
      "flatten_2 (Flatten)          (None, 1024)              0         \n",
      "_________________________________________________________________\n",
      "dense_4 (Dense)              (None, 64)                65600     \n",
      "_________________________________________________________________\n",
      "dense_5 (Dense)              (None, 10)                650       \n",
      "=================================================================\n",
      "Total params: 122,570\n",
      "Trainable params: 122,570\n",
      "Non-trainable params: 0\n",
      "_________________________________________________________________\n"
     ]
    }
   ],
   "source": [
    "model = models.Sequential()\n",
    "\n",
    "#Conv layer\n",
    "model.add(layers.Conv2D(filters=32, kernel_size=(3, 3), activation='relu', input_shape=(32, 32, 3)))\n",
    "model.add(layers.MaxPooling2D((2, 2)))\n",
    "model.add(layers.Conv2D(64, (3, 3), activation='relu'))\n",
    "model.add(layers.MaxPooling2D((2, 2)))\n",
    "model.add(layers.Conv2D(64, (3, 3), activation='relu'))\n",
    "\n",
    "#filter value can be said to represent the number of patterns we want the layer to look out for\n",
    "#kernel_size is the \"height and width of conv window\" meaning the area over which we are looking out for the filter patterns\n",
    "#input_shape is inferred from 2nd layer onwards\n",
    "#Max pooling takes the greatest value in a area of pixels, reducing computation\n",
    "#Max pooling stride is the input_shape by default\n",
    "\n",
    "#Dense layer\n",
    "model.add(layers.Flatten()) #need to make the layer linear to connect to Dense layers\n",
    "model.add(layers.Dense(64, activation='relu'))\n",
    "model.add(layers.Dense(10))\n",
    "\n",
    "model.summary()"
   ]
  },
  {
   "cell_type": "markdown",
   "id": "4351589e",
   "metadata": {},
   "source": [
    "### Why ReLU?\n",
    "##### A trained CNN has hidden layers whose neurons correspond to possible abstract representations over the input features. When confronted with an unseen input, a CNN doesn’t know which among the abstract representations that it has learned will be relevant for that particular input. For any given neuron in the hidden layer, representing a given learned abstract representation, there are two possible (fuzzy) cases: either that neuron is relevant, or it isn’t. \n",
    "\n",
    "##### If the neuron isn’t relevant, this doesn’t necessarily mean that other possible abstract representations are also less likely as a consequence. If we used an activation function whose image includes \\mathbb{R^{-}}, this means that, for certain values of the input to a neuron, that neuron’s output would negatively contribute to the output of the neural network. \n",
    "\n",
    "##### This is generally undesirable: as mentioned above, we assume that all learned abstract representations are independent of one another. For CNNs, it’s therefore preferable to use non-negative activation functions. \n",
    "\n",
    "##### As a consequence, the usage of ReLU helps to prevent the exponential growth in the computation required to operate the neural network. If the CNN scales in size, the computational cost of adding extra ReLUs increases linearly.\n",
    "\n",
    "##### ReLUs also prevent the emergence of the so-called “vanishing gradient” problem, which is common when using sigmoidal functions. This problem refers to the tendency for the gradient of a neuron to approach zero for high values of the input.\n",
    "\n",
    "##### While sigmoidal functions have derivatives that tend to 0 as they approach positive infinity, ReLU always remains at a constant 1. This allows backpropagation of the error and learning to continue, even for high values of the input to the activation function. https://www.baeldung.com/cs/ml-relu-dropout-layers\n",
    "\n",
    "##### Constant derivative for  x >= 0 therefore easier computation for back propagation?"
   ]
  },
  {
   "cell_type": "code",
   "execution_count": 53,
   "id": "3046a0f3",
   "metadata": {},
   "outputs": [],
   "source": [
    "model.compile(optimizer=keras.optimizers.Adam(),loss=keras.losses.SparseCategoricalCrossentropy(from_logits=True)\n",
    "             , metrics=[keras.metrics.SparseCategoricalAccuracy()])\n",
    "#need to use SparseCategoricalAccuracyinstead of other types of accuracies.."
   ]
  },
  {
   "cell_type": "markdown",
   "id": "f4a8841f",
   "metadata": {},
   "source": [
    "##### Both, categorical cross entropy and sparse categorical cross entropy have the same loss function which you have mentioned above. The only difference is the format in which you mention Yi (i,e true labels).\n",
    "\n",
    "##### If your Y's are one-hot encoded, use categorical_crossentropy. Examples (for a 3-class classification): [1,0,0] , [0,1,0], [0,0,1]\n",
    "\n",
    "##### But if your Y's are integers, use sparse_categorical_crossentropy. Examples for above 3-class classification problem: [1] , [2], [3]\n",
    "\n",
    "##### The usage entirely depends on how you load your dataset. One advantage of using sparse categorical cross entropy is it saves time in memory as well as computation because it simply uses a single integer for a class, rather than a whole vector.\n",
    "\n",
    "##### https://stats.stackexchange.com/questions/326065/cross-entropy-vs-sparse-cross-entropy-when-to-use-one-over-the-other\n",
    "\n",
    "##### The from_logits=True attribute inform the loss function that the output values generated by the model are not normalized, a.k.a. logits. In other words, the softmax function has not been applied on them to produce a probability distribution. Therefore, the output layer in this case does not have a softmax activation function.\n",
    "\n",
    "##### The softmax function would be automatically applied on the output values by the loss function. Therefore, this does not make a difference with the scenario when you use from_logits=False (default) and a softmax activation function on last layer; however, in some cases, this might help with numerical stability during training of the model. \n",
    "\n",
    "##### https://datascience.stackexchange.com/questions/73093/what-does-from-logits-true-do-in-sparsecategoricalcrossentropy-loss-function"
   ]
  },
  {
   "cell_type": "code",
   "execution_count": 54,
   "id": "99394dde",
   "metadata": {},
   "outputs": [
    {
     "name": "stdout",
     "output_type": "stream",
     "text": [
      "Epoch 1/3\n",
      "1407/1407 [==============================] - 35s 25ms/step - loss: 0.7612 - sparse_categorical_accuracy: 0.7341 - val_loss: 0.8480 - val_sparse_categorical_accuracy: 0.7102\n",
      "Epoch 2/3\n",
      "1407/1407 [==============================] - 39s 28ms/step - loss: 0.7132 - sparse_categorical_accuracy: 0.7490 - val_loss: 0.8984 - val_sparse_categorical_accuracy: 0.6892\n",
      "Epoch 3/3\n",
      "1407/1407 [==============================] - 38s 27ms/step - loss: 0.6739 - sparse_categorical_accuracy: 0.7618 - val_loss: 0.9131 - val_sparse_categorical_accuracy: 0.6934\n"
     ]
    }
   ],
   "source": [
    "test = model.fit(training_features_scaled,training_labels,epochs=3,validation_split=0.1)"
   ]
  },
  {
   "cell_type": "code",
   "execution_count": 55,
   "id": "d0bf183b",
   "metadata": {},
   "outputs": [
    {
     "name": "stdout",
     "output_type": "stream",
     "text": [
      "313/313 [==============================] - 2s 8ms/step - loss: 0.9522 - sparse_categorical_accuracy: 0.6774\n"
     ]
    },
    {
     "data": {
      "text/plain": [
       "[0.952165424823761, 0.6773999929428101]"
      ]
     },
     "execution_count": 55,
     "metadata": {},
     "output_type": "execute_result"
    }
   ],
   "source": [
    "model.evaluate(testing_features_scaled,testing_labels,verbose=1)"
   ]
  },
  {
   "cell_type": "code",
   "execution_count": 58,
   "id": "e1cb5e7c",
   "metadata": {},
   "outputs": [],
   "source": [
    "predictions = model.predict(testing_features_scaled)"
   ]
  },
  {
   "cell_type": "code",
   "execution_count": 76,
   "id": "da4ae60f",
   "metadata": {},
   "outputs": [
    {
     "name": "stdout",
     "output_type": "stream",
     "text": [
      "The actual picture is a cat\n",
      "The predicted picture is a airplane\n"
     ]
    },
    {
     "data": {
      "image/png": "[encoded data removed]",
      "text/plain": [
       "<Figure size 432x288 with 1 Axes>"
      ]
     },
     "metadata": {
      "needs_background": "light"
     },
     "output_type": "display_data"
    }
   ],
   "source": [
    "def prediction(index):\n",
    "    plt.imshow( testing_features[index] )\n",
    "    print(\"The actual picture is a \" +LABEL_NAMES[ int( testing_labels[index] ) ] )\n",
    "    print(\"The predicted picture is a \" +LABEL_NAMES[predictions[index].argmax()])\n",
    "    \n",
    "prediction(4862)"
   ]
  }
 ],
 "metadata": {
  "kernelspec": {
   "display_name": "Python 3",
   "language": "python",
   "name": "python3"
  },
  "language_info": {
   "codemirror_mode": {
    "name": "ipython",
    "version": 3
   },
   "file_extension": ".py",
   "mimetype": "text/x-python",
   "name": "python",
   "nbconvert_exporter": "python",
   "pygments_lexer": "ipython3",
   "version": "3.8.8"
  }
 },
 "nbformat": 4,
 "nbformat_minor": 5
}
